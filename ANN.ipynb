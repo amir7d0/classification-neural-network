{
 "cells": [
  {
   "cell_type": "markdown",
   "id": "cd429c58",
   "metadata": {},
   "source": [
    "The MNIST database (Modified National Institute of Standards and Technology database) of handwritten digits consists of a training set of 60,000 examples, and a test set of 10,000 examples. It is a subset of a larger set available from NIST. Additionally, the black and white images from NIST were size-normalized and centered to fit into a 28x28 pixel bounding box and anti-aliased, which introduced grayscale levels.\n",
    "\n",
    "This database is well liked for training and testing in the field of machine learning and image processing. It is a remixed subset of the original NIST datasets. One half of the 60,000 training images consist of images from NIST's testing dataset and the other half from Nist's training set. The 10,000 images from the testing set are similarly assembled."
   ]
  },
  {
   "cell_type": "code",
   "execution_count": null,
   "id": "e3bc3e74",
   "metadata": {},
   "outputs": [],
   "source": []
  },
  {
   "cell_type": "code",
   "execution_count": 1,
   "id": "463fa591",
   "metadata": {
    "ExecuteTime": {
     "end_time": "2021-08-17T13:14:45.721794Z",
     "start_time": "2021-08-17T13:14:45.220378Z"
    }
   },
   "outputs": [],
   "source": [
    "import time\n",
    "import numpy as np\n",
    "import matplotlib.pyplot as plt\n",
    "import dill\n",
    "\n",
    "%matplotlib inline"
   ]
  },
  {
   "cell_type": "markdown",
   "id": "d9782def",
   "metadata": {
    "heading_collapsed": true
   },
   "source": [
    "### import data"
   ]
  },
  {
   "cell_type": "code",
   "execution_count": 8,
   "id": "dde980d5",
   "metadata": {
    "ExecuteTime": {
     "end_time": "2021-08-15T19:51:30.913945Z",
     "start_time": "2021-08-15T19:51:30.909664Z"
    },
    "hidden": true
   },
   "outputs": [],
   "source": [
    "import pickle\n",
    "import bz2\n",
    "\n",
    "\n",
    "def save(filename, data):\n",
    "    try:\n",
    "        with bz2.BZ2File(filename, 'wb') as f:\n",
    "            pickle.dump(data, f)\n",
    "    \n",
    "    except:\n",
    "        print('File ' + filename + ' cannot be written\\n')\n",
    "        return\n",
    "\n",
    "\n",
    "def load(filename):\n",
    "    try:\n",
    "        with bz2.BZ2File(filename, 'rb') as f:\n",
    "            data = pickle.load(f)\n",
    "        return data\n",
    "    except:\n",
    "        print('File ' + filename + ' cannot be read\\n')\n",
    "        return"
   ]
  },
  {
   "cell_type": "code",
   "execution_count": 9,
   "id": "9ecbb92d",
   "metadata": {
    "ExecuteTime": {
     "end_time": "2021-08-15T19:51:39.560156Z",
     "start_time": "2021-08-15T19:51:31.315458Z"
    },
    "hidden": true,
    "scrolled": true
   },
   "outputs": [],
   "source": [
    "# load data\n",
    "\n",
    "data_path='data/'\n",
    "data = load(filename=data_path + 'mnist.pkl')\n",
    "\n",
    "train_imgs = data[0]\n",
    "test_imgs = data[1]\n",
    "train_labels = data[2]\n",
    "test_labels = data[3]\n",
    "train_labels_one_hot = data[4]\n",
    "test_labels_one_hot = data[5]"
   ]
  },
  {
   "cell_type": "code",
   "execution_count": 10,
   "id": "d9f7524b",
   "metadata": {
    "ExecuteTime": {
     "end_time": "2021-08-15T19:51:58.052137Z",
     "start_time": "2021-08-15T19:51:39.564449Z"
    },
    "hidden": true
   },
   "outputs": [],
   "source": [
    "# save data\n",
    "\n",
    "data_path='data/'\n",
    "data = train_imgs, test_imgs, train_labels ,test_labels, train_labels_one_hot, test_labels_one_hot\n",
    "save(filename=data_path + 'mnist.pkl', data=data)"
   ]
  },
  {
   "cell_type": "code",
   "execution_count": 11,
   "id": "2ea3a51c",
   "metadata": {
    "ExecuteTime": {
     "end_time": "2021-08-15T19:51:58.064503Z",
     "start_time": "2021-08-15T19:51:58.056699Z"
    },
    "hidden": true
   },
   "outputs": [],
   "source": [
    "X_train = train_imgs\n",
    "X_test = test_imgs\n",
    "y_train = train_labels_one_hot\n",
    "y_test = test_labels_one_hot"
   ]
  },
  {
   "cell_type": "markdown",
   "id": "a4179387",
   "metadata": {
    "heading_collapsed": true
   },
   "source": [
    "### read from csv file"
   ]
  },
  {
   "cell_type": "code",
   "execution_count": null,
   "id": "88ff84db",
   "metadata": {
    "ExecuteTime": {
     "end_time": "2021-08-15T12:05:34.109366Z",
     "start_time": "2021-08-15T12:05:05.121833Z"
    },
    "hidden": true
   },
   "outputs": [],
   "source": [
    "image_size = 28\n",
    "number_of_classes = 10\n",
    "image_pixels = image_size * image_size\n",
    "data_path = \"data/\"\n",
    "train_data = np.loadtxt(data_path + \"mnist_train.csv\", delimiter=\",\")\n",
    "test_data = np.loadtxt(data_path + \"mnist_test.csv\", delimiter=\",\")\n"
   ]
  },
  {
   "cell_type": "code",
   "execution_count": null,
   "id": "0fb90766",
   "metadata": {
    "ExecuteTime": {
     "end_time": "2021-08-13T19:43:20.775560Z",
     "start_time": "2021-08-13T19:43:20.433978Z"
    },
    "hidden": true
   },
   "outputs": [],
   "source": [
    "factor = 1.0 / 255\n",
    "train_imgs = np.asfarray(train_data[:, 1:], dtype=np.float64) / 255    # * factor + 0.01\n",
    "test_imgs = np.asfarray(test_data[:, 1:], dtype=np.float64) / 255      # * factor + 0.01\n",
    "\n",
    "train_labels = np.asfarray(train_data[:, :1], dtype=np.float)\n",
    "test_labels = np.asfarray(test_data[:, :1], dtype=np.float)\n",
    "\n",
    "lr = np.arange(number_of_classes)\n",
    "\n",
    "# one hot representation\n",
    "train_labels_one_hot = (lr == train_labels).astype(np.float)\n",
    "test_labels_one_hot = (lr == test_labels).astype(np.float)\n",
    "\n",
    "\n",
    "train_labels_one_hot[train_labels_one_hot == 0] = 0.0     # 0.01\n",
    "train_labels_one_hot[train_labels_one_hot == 1] = 1.0     # 0.99\n",
    "test_labels_one_hot[test_labels_one_hot == 0] = 0.0       # 0.01\n",
    "test_labels_one_hot[test_labels_one_hot == 1] = 1.0       # 0.99\n"
   ]
  },
  {
   "cell_type": "code",
   "execution_count": null,
   "id": "380b436b",
   "metadata": {
    "ExecuteTime": {
     "end_time": "2021-08-15T12:06:32.677755Z",
     "start_time": "2021-08-15T12:06:31.771764Z"
    },
    "hidden": true
   },
   "outputs": [],
   "source": [
    "###!!!\n",
    "factor = 0.99 / 255\n",
    "train_imgs = np.asfarray(train_data[:, 1:], dtype=np.float64) * factor + 0.01    # * factor + 0.01\n",
    "test_imgs = np.asfarray(test_data[:, 1:], dtype=np.float64) * factor + 0.01      # * factor + 0.01\n",
    "\n",
    "train_labels = np.asfarray(train_data[:, :1], dtype=np.float)\n",
    "test_labels = np.asfarray(test_data[:, :1], dtype=np.float)\n",
    "\n",
    "lr = np.arange(number_of_classes)\n",
    "\n",
    "# one hot representation\n",
    "train_labels_one_hot = (lr == train_labels).astype(np.float)\n",
    "test_labels_one_hot = (lr == test_labels).astype(np.float)\n",
    "\n",
    "\n",
    "train_labels_one_hot[train_labels_one_hot == 0] = 0.01     # 0.01\n",
    "train_labels_one_hot[train_labels_one_hot == 1] = 0.99     # 0.99\n",
    "test_labels_one_hot[test_labels_one_hot == 0] = 0.01       # 0.01\n",
    "test_labels_one_hot[test_labels_one_hot == 1] = 0.99       # 0.99\n"
   ]
  },
  {
   "cell_type": "markdown",
   "id": "3cd996bb",
   "metadata": {
    "heading_collapsed": true
   },
   "source": [
    "### load from keras"
   ]
  },
  {
   "cell_type": "code",
   "execution_count": null,
   "id": "3df5e5d6",
   "metadata": {
    "hidden": true
   },
   "outputs": [],
   "source": [
    "from tensorflow import keras"
   ]
  },
  {
   "cell_type": "code",
   "execution_count": null,
   "id": "61fd3bc4",
   "metadata": {
    "hidden": true
   },
   "outputs": [],
   "source": [
    "(X_train, y_train), (X_test, y_test) = keras.datasets.mnist.load_data()\n",
    "\n",
    "X_train = X_train / 255\n",
    "X_test = X_test / 255\n",
    "\n",
    "y_train = tf.keras.utils.to_categorical(y_train, 10).T\n",
    "y_test = tf.keras.utils.to_categorical(y_test, 10).T\n",
    "\n",
    "X_train = X_train.reshape(-1, 28 * 28)\n",
    "X_test = X_test.reshape(-1, 28 * 28)\n",
    "y_train = y_train.T\n",
    "y_test = y_test.T"
   ]
  },
  {
   "cell_type": "code",
   "execution_count": null,
   "id": "bfc6bc87",
   "metadata": {
    "ExecuteTime": {
     "end_time": "2021-08-15T11:44:30.081635Z",
     "start_time": "2021-08-15T11:44:30.077152Z"
    },
    "hidden": true
   },
   "outputs": [],
   "source": [
    "X_train.shape, y_train.shape, X_test.shape, y_test.shape"
   ]
  },
  {
   "cell_type": "markdown",
   "id": "26b6d8ac",
   "metadata": {
    "heading_collapsed": true
   },
   "source": [
    "## data examples"
   ]
  },
  {
   "cell_type": "code",
   "execution_count": null,
   "id": "2987f792",
   "metadata": {
    "ExecuteTime": {
     "end_time": "2021-08-15T12:06:48.118852Z",
     "start_time": "2021-08-15T12:06:48.114753Z"
    },
    "hidden": true
   },
   "outputs": [],
   "source": [
    "X_train = train_imgs\n",
    "X_test = test_imgs\n",
    "y_train = train_labels_one_hot\n",
    "y_test = test_labels_one_hot\n"
   ]
  },
  {
   "cell_type": "code",
   "execution_count": 7,
   "id": "809bce95",
   "metadata": {
    "ExecuteTime": {
     "end_time": "2021-08-15T12:34:05.093254Z",
     "start_time": "2021-08-15T12:34:05.086860Z"
    },
    "hidden": true
   },
   "outputs": [
    {
     "data": {
      "text/plain": [
       "((60000, 784), (60000, 10), (10000, 784), (10000, 10))"
      ]
     },
     "execution_count": 7,
     "metadata": {},
     "output_type": "execute_result"
    }
   ],
   "source": [
    "X_train.shape, y_train.shape, X_test.shape, y_test.shape"
   ]
  },
  {
   "cell_type": "code",
   "execution_count": 8,
   "id": "e6724355",
   "metadata": {
    "ExecuteTime": {
     "end_time": "2021-08-15T12:34:06.795910Z",
     "start_time": "2021-08-15T12:34:06.422379Z"
    },
    "hidden": true
   },
   "outputs": [
    {
     "data": {
      "image/png": "[encoded data removed]",
      "text/plain": [
       "<Figure size 1440x288 with 5 Axes>"
      ]
     },
     "metadata": {
      "needs_background": "light"
     },
     "output_type": "display_data"
    }
   ],
   "source": [
    "image_size = 28\n",
    "\n",
    "nrows, ncols = 1, 5\n",
    "idx = np.random.randint(0, X_train.shape[0])\n",
    "img = X_train[idx,:].reshape((image_size,image_size))\n",
    "\n",
    "fig, axs = plt.subplots(nrows=1, ncols=5, figsize=(20, 4))\n",
    "for ax in axs:\n",
    "    idx = np.random.randint(0, X_train.shape[0])\n",
    "    img = X_train[idx,:].reshape((image_size,image_size))\n",
    "    label = np.argmax(y_train[idx,:])\n",
    "    ax.imshow(img, cmap='gray')\n",
    "    ax.set_title(str(label))\n",
    "    \n",
    "\n",
    "plt.show()"
   ]
  },
  {
   "cell_type": "markdown",
   "id": "948a5b86",
   "metadata": {},
   "source": [
    "## Initilizers"
   ]
  },
  {
   "cell_type": "markdown",
   "id": "0b423569",
   "metadata": {},
   "source": [
    "fan_in is number of inputs to a hidden unit = $n^{[l-1]}$ (the number of neuron in layer $l-1$).  \n",
    "fan_out is number of outputs to a hidden unit = $n^{[l]}$\n",
    "- **Random normal initialization** (Normal distribution with zero mean and $0.05$ standard deviation)\n",
    "\n",
    "$$\n",
    "W^{[l]} \\sim N(\\mu = 0, \\sigma^2 = 25 * 10^{-4})\n",
    "$$\n",
    "\n",
    "- **Random uniform initialization** (Uniform distribution within $[-limit, limit]$, where $limit = 0.05$)\n",
    "$$\n",
    "W^{[l]} \\sim U(-0.05, \\: +0.05)\n",
    "$$\n",
    "\n",
    "---\n",
    "- **Xavier(Glorot) normal initialization** (Normal distribution with zero mean and $\\sqrt{\\frac{2}{n^{[l-1]} + n^{[l]}}}$ standard deviation)\n",
    "$$\n",
    "W^{[l]} \\sim N(\\mu = 0, \\sigma^2 = \\frac{2}{n^{[l-1]} + n^{[l]}} )\n",
    "$$\n",
    "\n",
    "- **Xavier(Glorot) uniform initialization** (Uniform distribution within $[-limit, limit]$, where $limit = \\sqrt{\\frac{6}{n^{[l-1]} + n^{[l]}}}$)\n",
    "$$\n",
    "W^{[l]} \\sim U(-\\sqrt{\\frac{6}{n^{[l-1]} + n^{[l]}}}, \\: +\\sqrt{\\frac{6}{n^{[l-1]} + n^{[l]}}} )\n",
    "$$\n",
    "---\n",
    "- **He normal initialization** (Normal distribution with zero mean and $\\sqrt{\\frac{2}{n^{[l-1]}}}$ standard deviation)\n",
    "\n",
    "$$\n",
    "W^{[l]} \\sim N(\\mu = 0, \\sigma^2 = \\frac{2}{n^{[l-1]}} )\n",
    "$$\n",
    "\n",
    "- **He uniform initialization** (Uniform distribution within $[-limit, limit]$, where $limit = \\sqrt{\\frac{6}{n^{[l-1]}}}$)\n",
    "\n",
    "$$\n",
    "W^{[l]} \\sim U(-\\sqrt{\\frac{6}{n^{[l-1]}}}, \\: +\\sqrt{\\frac{6}{n^{[l-1]}}})\n",
    "$$\n",
    "\n",
    "---\n",
    "- **Lecun normal initialization** (Normal distribution with zero mean and $\\sqrt{\\frac{1}{n^{[l-1]}}}$ standard deviation)\n",
    "\n",
    "$$\n",
    "W^{[l]} \\sim N(\\mu = 0, \\sigma^2 = \\frac{1}{n^{[l-1]}} )\n",
    "$$\n",
    "\n",
    "- **Lecun uniform initialization** (Uniform distribution within $[-limit, limit]$, where $limit = \\sqrt{\\frac{3}{n^{[l-1]}}}$)\n",
    "\n",
    "$$\n",
    "W^{[l]} \\sim U(-\\sqrt{\\frac{3}{n^{[l-1]}}}, \\: +\\sqrt{\\frac{3}{n^{[l-1]}}})\n",
    "$$"
   ]
  },
  {
   "cell_type": "code",
   "execution_count": 2,
   "id": "f9f0893b",
   "metadata": {
    "ExecuteTime": {
     "end_time": "2021-08-17T13:38:26.310026Z",
     "start_time": "2021-08-17T13:38:26.282677Z"
    }
   },
   "outputs": [],
   "source": [
    "class initializers:\n",
    "    \n",
    "    @staticmethod\n",
    "    def RandomNormal(fan_in, fan_out):\n",
    "        sigma = 0.05\n",
    "        w = np.random.normal(loc=0.0, scale=sigma, size=(fan_out, fan_in))\n",
    "        sdw = np.zeros((fan_out, fan_in))\n",
    "        vdw = np.zeros((fan_out, fan_in))\n",
    "\n",
    "        b = np.zeros((fan_out, 1))\n",
    "        sdb = np.zeros((fan_out, 1))\n",
    "        vdb = np.zeros((fan_out, 1))\n",
    "\n",
    "        return w, b, vdw, vdb, sdw, sdb\n",
    "\n",
    "    @staticmethod\n",
    "    def RandomUniform(fan_in, fan_out):\n",
    "        limit = 0.05\n",
    "        w = np.random.uniform(low=-limit, high=limit, size=(fan_out, fan_in))\n",
    "        sdw = np.zeros((fan_out, fan_in))\n",
    "        vdw = np.zeros((fan_out, fan_in))\n",
    "\n",
    "        b = np.zeros((fan_out, 1))\n",
    "        sdb = np.zeros((fan_out, 1))\n",
    "        vdb = np.zeros((fan_out, 1))\n",
    "\n",
    "        return w, b, vdw, vdb, sdw, sdb\n",
    "    \n",
    "    \n",
    "    @staticmethod\n",
    "    def GlorotNormal(fan_in, fan_out): \n",
    "        # The Glorot normal initializer, also called Xavier normal initializer\n",
    "        # For Tanh based activation\n",
    "        '''\n",
    "        truncated normal distribution : scipy.stats.truncnorm(\n",
    "                                            (lower - mu) / sigma, (upper - mu) / sigma, loc=mu, scale=sigma)\n",
    "        '''\n",
    "        sigma = np.sqrt(2.0 / (fan_in + fan_out))\n",
    "        w = np.random.normal(loc=0.0, scale=sigma, size=(fan_out, fan_in))\n",
    "        sdw = np.zeros((fan_out, fan_in))\n",
    "        vdw = np.zeros((fan_out, fan_in))\n",
    "\n",
    "        b = np.zeros((fan_out, 1))\n",
    "        sdb = np.zeros((fan_out, 1))\n",
    "        vdb = np.zeros((fan_out, 1))\n",
    "\n",
    "        return w, b, vdw, vdb, sdw, sdb\n",
    "\n",
    "    @staticmethod\n",
    "    def GlorotUniform(fan_in, fan_out): \n",
    "        # The Glorot uniform initializer, also called Xavier uniform initializer\n",
    "        # For Tanh based activation\n",
    "        limit = np.sqrt(6 / (fan_in + fan_out))\n",
    "        w = np.random.uniform(low=-limit, high=limit, size=(fan_out, fan_in))\n",
    "        sdw = np.zeros((fan_out, fan_in))\n",
    "        vdw = np.zeros((fan_out, fan_in))\n",
    "\n",
    "        b = np.zeros((fan_out, 1))\n",
    "        sdb = np.zeros((fan_out, 1))\n",
    "        vdb = np.zeros((fan_out, 1))\n",
    "\n",
    "        return w, b, vdw, vdb, sdw, sdb\n",
    "    \n",
    "    \n",
    "    @staticmethod\n",
    "    def HeNormal(fan_in, fan_out):\n",
    "        # For ReLu based activation\n",
    "        sigma = np.sqrt(2.0 / fan_in)\n",
    "        w = np.random.normal(loc=0.0, scale=sigma, size=(fan_out, fan_in))\n",
    "        sdw = np.zeros((fan_out, fan_in))\n",
    "        vdw = np.zeros((fan_out, fan_in))\n",
    "\n",
    "        b = np.zeros((fan_out, 1))\n",
    "        sdb = np.zeros((fan_out, 1))\n",
    "        vdb = np.zeros((fan_out, 1))\n",
    "\n",
    "        return w, b, vdw, vdb, sdw, sdb\n",
    "    \n",
    "    @staticmethod\n",
    "    def HeUniform(fan_in, fan_out):\n",
    "        # For ReLu based activation\n",
    "        limit = np.sqrt(6.0 / fan_in)\n",
    "        w = np.random.uniform(low=-limit, high=limit, size=(fan_out, fan_in))\n",
    "        sdw = np.zeros((fan_out, fan_in))\n",
    "        vdw = np.zeros((fan_out, fan_in))\n",
    "\n",
    "        b = np.zeros((fan_out, 1))\n",
    "        sdb = np.zeros((fan_out, 1))\n",
    "        vdb = np.zeros((fan_out, 1))\n",
    "\n",
    "        return w, b, vdw, vdb, sdw, sdb\n",
    "\n",
    "    \n",
    "    @staticmethod\n",
    "    def LecunNormal(fan_in, fan_out):\n",
    "        # For sigmoid and tanh based activation functions that are differentiable in z=0\n",
    "        sigma = np.sqrt(1.0 / fan_in)\n",
    "        w = np.random.normal(loc=0.0, scale=sigma, size=(fan_out, fan_in))\n",
    "        sdw = np.zeros((fan_out, fan_in))\n",
    "        vdw = np.zeros((fan_out, fan_in))\n",
    "\n",
    "        b = np.zeros((fan_out, 1))\n",
    "        sdb = np.zeros((fan_out, 1))\n",
    "        vdb = np.zeros((fan_out, 1))\n",
    "\n",
    "        return w, b, vdw, vdb, sdw, sdb\n",
    "    \n",
    "    @staticmethod\n",
    "    def LecunUniform(fan_in, fan_out):\n",
    "        # For sigmoid and tanh based activation functions that are differentiable in z=0\n",
    "        limit = np.sqrt(3.0 / fan_in)\n",
    "        w = np.random.uniform(low=-limit, high=limit, size=(fan_out, fan_in))\n",
    "        sdw = np.zeros((fan_out, fan_in))\n",
    "        vdw = np.zeros((fan_out, fan_in))\n",
    "\n",
    "        b = np.zeros((fan_out, 1))\n",
    "        sdb = np.zeros((fan_out, 1))\n",
    "        vdb = np.zeros((fan_out, 1))\n",
    "\n",
    "        return w, b, vdw, vdb, sdw, sdb\n"
   ]
  },
  {
   "cell_type": "code",
   "execution_count": null,
   "id": "f1dfd99f",
   "metadata": {},
   "outputs": [],
   "source": []
  },
  {
   "cell_type": "markdown",
   "id": "765bbca2",
   "metadata": {
    "ExecuteTime": {
     "end_time": "2021-08-12T11:41:10.538491Z",
     "start_time": "2021-08-12T11:41:10.512234Z"
    }
   },
   "source": [
    "## Optimizers"
   ]
  },
  {
   "cell_type": "markdown",
   "id": "1087320d",
   "metadata": {
    "ExecuteTime": {
     "end_time": "2021-08-12T11:41:10.538491Z",
     "start_time": "2021-08-12T11:41:10.512234Z"
    }
   },
   "source": [
    "$$\n",
    "dW = \\frac{\\partial \\mathcal{J}}{\\partial W}, \\: db = \\frac{\\partial \\mathcal{J}}{\\partial b} \\\\\n",
    "$$\n",
    "\n",
    "---\n",
    "- **Gradient descent** (with momentum) optimizer ($\\alpha$ is learning rate and $\\beta$ is velocity).  \n",
    "velocity = momentum * velocity - learning_rate * gradient  \n",
    "W = W + velocity  \n",
    "\n",
    "$$\n",
    "\\begin{cases}\n",
    "V_{dW} = \\beta V_{dW} - \\alpha dW, \\quad &  W = W + V_{dW} \\\\\n",
    "V_{db} = \\beta V_{db} - \\alpha db, \\quad & b = b + V_{db} \\\\\n",
    "\\end{cases}\n",
    "$$\n",
    "\n",
    "\n",
    "---\n",
    "- **Momentum** optimizer\n",
    "$$\n",
    "\\begin{cases}\n",
    "V_{dW} = \\beta V_{dW} + (1 - \\beta) dW, \\quad & W = W - \\alpha V_{dW} \\\\\n",
    "V_{db} = \\beta V_{db} + (1 - \\beta) db, \\quad & b = b - \\alpha V_{db} \\\\\n",
    "\\end{cases}\n",
    "$$  \n",
    "    where:  \n",
    "    - $\\alpha$ is the learning rate  \n",
    "    - $\\beta$ is the momentum. values for $\\beta$ range from 0.8 to 0.999. $\\beta = 0.9$ is a good default.\n",
    "\n",
    "\n",
    "---\n",
    "- **Adam** optimizer  \n",
    "$$\n",
    "\\begin{cases}\n",
    "V_{dW} = \\beta_1 V_{dW} + (1 - \\beta_1) dW, \\: & V^{corrected}_{dW} = \\frac{V_{dW}}{1 - \\beta_1^t} \\\\\n",
    "S_{dW} = \\beta_2 S_{dW} + (1 - \\beta_2) dW^2, \\: & S^{corrected}_{dW} = \\frac{S_{dW}}{1 - \\beta_2^t} \\\\\n",
    "W = W - \\alpha \\frac{V^{corrected}_{dW}}{\\sqrt{S^{corrected}_{dW}} + \\varepsilon}\n",
    "\\end{cases}\n",
    "$$  \n",
    "\n",
    "    where:\n",
    "    - t counts the number of steps taken of Adam \n",
    "    - $\\beta_1$ and $\\beta_2$ are hyperparameters that control the two exponentially weighted averages. \n",
    "    - $\\alpha$ is the learning rate\n",
    "    - $\\varepsilon$ is a very small number to avoid dividing by zero\n",
    "\n",
    "\n",
    "---\n",
    "- **RMSprop** optimizer\n",
    "$$\n",
    "\\begin{cases}\n",
    "V_{dW} = \\beta V_{dW} + (1 - \\beta) dW^2, \\quad & W = W - \\alpha \\frac{dW}{\\sqrt{V_{dW}} + \\varepsilon } \\\\\n",
    "V_{db} = \\beta V_{db} + (1 - \\beta) db^2, \\quad & b = b - \\alpha \\frac{db}{\\sqrt{V_{db}} + \\varepsilon } \\\\\n",
    "\\end{cases}\n",
    "$$\n",
    "where:  \n",
    "    - $\\beta$ is hyperparameter that controls the exponentially weighted average. \n",
    "    - $\\alpha$ is the learning rate  "
   ]
  },
  {
   "cell_type": "code",
   "execution_count": null,
   "id": "ac4dba2e",
   "metadata": {},
   "outputs": [],
   "source": []
  },
  {
   "cell_type": "code",
   "execution_count": 13,
   "id": "275bc02a",
   "metadata": {
    "ExecuteTime": {
     "end_time": "2021-08-15T19:52:10.716278Z",
     "start_time": "2021-08-15T19:52:10.660900Z"
    }
   },
   "outputs": [],
   "source": [
    "class optimizers:\n",
    "    \n",
    "    class gd:    # gradient descent with momentum\n",
    "        def __init__(self, learning_rate=0.01, momentum=0.0):\n",
    "            self.learning_rate = learning_rate\n",
    "            self.momentum = momentum\n",
    "            self.name = 'gd'\n",
    "        \n",
    "        def update(self, index, dw, db):\n",
    "            vdw = model.layers[index].vdw\n",
    "            vdb = model.layers[index].vdb\n",
    "            \n",
    "            vdw = self.momentum * vdw - self.learning_rate * dw\n",
    "            vdb = self.momentum * vdb - self.learning_rate * db\n",
    "\n",
    "            model.layers[index].weight = model.layers[index].weight + vdw\n",
    "            model.layers[index].bias = model.layers[index].bias + vdb\n",
    "            \n",
    "            model.layers[index].vdw = vdw\n",
    "            model.layers[index].vdb = vdb\n",
    "    \n",
    "    class momentum:    # momentum\n",
    "        def __init__(self, learning_rate=0.01, beta=0.9):\n",
    "            self.learning_rate = learning_rate\n",
    "            self.beta = beta\n",
    "            self.name = 'momentum'\n",
    "            \n",
    "        def update(self, index, dw, db):\n",
    "            vdw = model.layers[index].vdw\n",
    "            vdb = model.layers[index].vdb\n",
    "            \n",
    "            vdw = self.beta * vdw + (1.0 - self.beta) * dw\n",
    "            vdb = self.beta * vdb + (1.0 - self.beta) * db\n",
    "\n",
    "            model.layers[index].weight = model.layers[index].weight - self.learning_rate * vdw\n",
    "            model.layers[index].bias = model.layers[index].bias - self.learning_rate * vdb\n",
    "            \n",
    "            model.layers[index].vdw = vdw\n",
    "            model.layers[index].vdb = vdb\n",
    "\n",
    "    \n",
    "    class rmsprop:    # RMSprop\n",
    "        def __init__(self, learning_rate=0.001, beta=0.9, epsilon=1e-07):\n",
    "            self.learning_rate = learning_rate\n",
    "            self.beta = beta\n",
    "            self.epsilon = epsilon\n",
    "            self.name = 'rmsprop'\n",
    "            \n",
    "        def update(self, index, dw, db):\n",
    "            \n",
    "            vdw = model.layers[index].vdw\n",
    "            vdb = model.layers[index].vdb\n",
    "\n",
    "            vdw = self.beta * vdw + (1.0 - self.beta) * np.square(dw)\n",
    "            vdb = self.beta * vdb + (1.0 - self.beta) * np.square(db)\n",
    "\n",
    "            model.layers[index].weight -= ((self.learning_rate / (np.sqrt(vdw + self.epsilon))) * dw)\n",
    "            model.layers[index].bias -= ((self.learning_rate / (np.sqrt(vdb + self.epsilon))) * db)\n",
    "\n",
    "            model.layers[index].vdw = vdw\n",
    "            model.layers[index].vdb = vdb\n",
    "            \n",
    "\n",
    "    class adam:    # Adam\n",
    "        def __init__(self, learning_rate=0.001, beta_1=0.9, beta_2=0.999, epsilon=1e-07):\n",
    "            self.learning_rate = learning_rate\n",
    "            self.beta_1 = beta_1\n",
    "            self.beta_2 = beta_2\n",
    "            self.epsilon = epsilon\n",
    "            self.name = 'adam'\n",
    "            \n",
    "        def update(self, index, dw, db):\n",
    "            t = model.layers[index].t\n",
    "            t += 1\n",
    "            \n",
    "            vdw = model.layers[index].vdw\n",
    "            vdb = model.layers[index].vdb\n",
    "            sdw = model.layers[index].sdw\n",
    "            sdb = model.layers[index].sdb\n",
    "            \n",
    "            vdw = self.beta_1 * vdw + (1.0 - self.beta_1) * dw\n",
    "            vdb = self.beta_1 * vdb + (1.0 - self.beta_1) * db\n",
    "\n",
    "            vdw_corrected = vdw / (1.0 - self.beta_1 ** t)\n",
    "            vdb_corrected = vdb / (1.0 - self.beta_1 ** t)\n",
    "\n",
    "            sdw = self.beta_2 * sdw + (1.0 - self.beta_2) * np.square(dw)\n",
    "            sdb = self.beta_2 * sdb + (1.0 - self.beta_2) * np.square(db)\n",
    "\n",
    "            sdw_corrected = sdw / (1.0 - self.beta_2 ** t)\n",
    "            sdb_corrected = sdb / (1.0 - self.beta_2 ** t)\n",
    "\n",
    "            model.layers[index].weight = model.layers[index].weight - self.learning_rate * vdw_corrected / (np.sqrt(sdw_corrected) + self.epsilon)\n",
    "            model.layers[index].bias = model.layers[index].bias - self.learning_rate * vdb_corrected / (np.sqrt(sdb_corrected) + self.epsilon)\n",
    "\n",
    "            model.layers[index].vdw = vdw\n",
    "            model.layers[index].vdb = vdb\n",
    "            model.layers[index].sdw = sdw\n",
    "            model.layers[index].sdb = sdb\n",
    "\n",
    "            model.layers[index].t = t\n"
   ]
  },
  {
   "cell_type": "code",
   "execution_count": null,
   "id": "4874f45a",
   "metadata": {},
   "outputs": [],
   "source": []
  },
  {
   "cell_type": "markdown",
   "id": "c706dfb3",
   "metadata": {},
   "source": [
    "## Loss Functions"
   ]
  },
  {
   "cell_type": "markdown",
   "id": "8a1cadd9",
   "metadata": {},
   "source": [
    "- **Categorical Cross Entropy**\n",
    "$$\n",
    "CCE = \\frac{-1}{m} \\sum_{i=1}^{m} \\sum_{j=1}^{c} y_{ij} . log(\\hat y_{ij}), \\qquad \\sum_{j=1}^{c} \\hat y_{ij} = 1 \\\\\n",
    "$$\n",
    "$$\n",
    "if \\: Y_i = \\begin{bmatrix}\n",
    "    y_{i1} \\\\\n",
    "    y_{i2} \\\\\n",
    "    \\vdots \\\\\n",
    "    y_{ic}\n",
    "\\end{bmatrix} \\\\\n",
    "$$\n",
    "$$\n",
    "CCE = \\frac{-1}{m} \\sum_{i=1}^{m} \\sum_{j=1}^{c} Y_{i} . log(\\hat Y_{i}) \\\\\n",
    "$$\n",
    "    where:  \n",
    "    - m is the number of examples  \n",
    "    - c is the number of classes"
   ]
  },
  {
   "cell_type": "markdown",
   "id": "46b4746b",
   "metadata": {},
   "source": [
    "- **Binary Cross Entropy**\n",
    "\n",
    "$$\n",
    "BCE = \\frac{-1}{m} \\sum_{i=1}^{m} \\sum_{j=1}^{2} y_{ij} . log(\\hat y_{ij})\n",
    "$$\n",
    "\n",
    "$$\n",
    "BCE = \\frac{-1}{m} \\sum_{i=1}^{m} y_{i1} . log(\\hat y_{i1}) + y_{i2} . log(\\hat y_{i2})\n",
    "$$\n",
    "\n",
    "$$\n",
    "\\qquad \\sum_{j=1}^{2} \\hat y_{ij} = 1 \\rightarrow \\hat y_{i1} + \\hat y_{i2} = 1 \\rightarrow \\hat y_{i2} = 1 - \\hat y_{i1}\n",
    "$$\n",
    "\n",
    "$$\n",
    "BCE = \\frac{-1}{m} \\sum_{i=1}^{m} y_{i1} . log(\\hat y_{i1}) + (1 - y_{i1}) . log(1 - \\hat y_{i1})\n",
    "$$\n",
    "\n",
    "$$\n",
    "if \\: Y_i = \\begin{bmatrix}\n",
    "    y_{i1}  \\\\\n",
    "\\end{bmatrix}\n",
    "$$\n",
    "\n",
    "$$\n",
    "BCE = \\frac{-1}{m} \\sum_{i=1}^{m} Y_{i} . log(\\hat Y_{i}) + (1 - Y_{i}) . log(1 - \\hat Y_{i})\n",
    "$$\n",
    "    where: m is the number of examples"
   ]
  },
  {
   "cell_type": "code",
   "execution_count": null,
   "id": "6880cc59",
   "metadata": {},
   "outputs": [],
   "source": []
  },
  {
   "cell_type": "code",
   "execution_count": 14,
   "id": "e04cbcf9",
   "metadata": {
    "ExecuteTime": {
     "end_time": "2021-08-15T19:52:15.931958Z",
     "start_time": "2021-08-15T19:52:15.919336Z"
    }
   },
   "outputs": [],
   "source": [
    "class losses(): \n",
    "    @staticmethod\n",
    "    def BinaryCrossentropy(y_hat, y_true):\n",
    "        # y_hat and y_true (1, m)\n",
    "        \n",
    "        m = y_true.shape[1]\n",
    "        epsilon = 1e-07\n",
    "\n",
    "        bce = y_true * np.log(y_hat + epsilon)\n",
    "        bce += (1 - y_true) * np.log(1 - y_hat + epsilon)\n",
    "        bce = (-1.0 / m) * np.sum(bce)\n",
    "        return bce\n",
    "            \n",
    "    @staticmethod     \n",
    "    def CategoricalCrossentropy(y_hat, y_true):\n",
    "        \n",
    "        m = y_true.shape[1]\n",
    "\n",
    "        epsilon = 1e-07\n",
    "        # y_hat and y_true (1, m)\n",
    "        cce = np.sum(y_true * np.log(y_hat + epsilon), axis=0)\n",
    "\n",
    "        cce = (-1.0 / m) * np.sum(cce)\n",
    "        return cce\n"
   ]
  },
  {
   "cell_type": "code",
   "execution_count": 15,
   "id": "990121ef",
   "metadata": {
    "ExecuteTime": {
     "end_time": "2021-08-15T19:52:17.075159Z",
     "start_time": "2021-08-15T19:52:17.066212Z"
    }
   },
   "outputs": [],
   "source": [
    "class Metric():\n",
    "    @staticmethod\n",
    "    def binary_accuracy(y_pred, y_true, threshold=0.5):\n",
    "        \n",
    "        y_pred[y_pred > threshold] = 1\n",
    "        y_pred[y_pred <= threshold] = 0\n",
    "        return np.mean(np.equal(y_pred, y_true))\n",
    "    \n",
    "    @staticmethod\n",
    "    def categorical_accuracy(y_pred, y_true):\n",
    "        \n",
    "        return np.mean(np.argmax(y_pred, axis=0) == np.argmax(y_true, axis=0))\n",
    "        "
   ]
  },
  {
   "cell_type": "code",
   "execution_count": null,
   "id": "7f2fd261",
   "metadata": {},
   "outputs": [],
   "source": []
  },
  {
   "cell_type": "markdown",
   "id": "60deb349",
   "metadata": {
    "heading_collapsed": true
   },
   "source": [
    "## Activation Functions\n"
   ]
  },
  {
   "cell_type": "code",
   "execution_count": 16,
   "id": "57f3e6c4",
   "metadata": {
    "ExecuteTime": {
     "end_time": "2021-08-15T19:52:20.541625Z",
     "start_time": "2021-08-15T19:52:20.530409Z"
    },
    "hidden": true
   },
   "outputs": [],
   "source": [
    "class sigmoid:\n",
    "    @staticmethod\n",
    "    def activation(Z):\n",
    "        return 1.0 / (1.0 + np.exp(-Z))\n",
    "\n",
    "    @staticmethod\n",
    "    def prime(Z):\n",
    "        return sigmoid.activation(Z) * (1 - sigmoid.activation(Z))\n",
    "    \n",
    "    \n",
    "class softmax:\n",
    "    @staticmethod\n",
    "    def activation(Z):\n",
    "        # return np.exp(Z - np.max(Z)) / np.exp(Z - np.max(Z)).sum(axis=0)    # stable softmax\n",
    "        exps = np.exp(Z)\n",
    "        return exps / exps.sum(axis=0)\n",
    "    \n",
    "    \n",
    "class tanh:\n",
    "    @staticmethod\n",
    "    def activation(Z):\n",
    "        #(np.exp(Z) - np.exp(-Z)) / (np.exp(Z) + np.exp(-Z))\n",
    "        return np.tanh(Z)\n",
    "\n",
    "    @staticmethod\n",
    "    def prime(Z):\n",
    "        return 1.0 - (np.tanh(Z) ** 2)\n",
    "    \n",
    "    \n",
    "class relu:\n",
    "    @staticmethod\n",
    "    def activation(Z):\n",
    "        return np.maximum(0, Z)\n",
    "\n",
    "    @staticmethod\n",
    "    def prime(Z):\n",
    "        Z[Z <= 0] = 0\n",
    "        Z[Z > 0] = 1\n",
    "        return Z\n",
    "\n",
    "    "
   ]
  },
  {
   "cell_type": "code",
   "execution_count": null,
   "id": "798da961",
   "metadata": {
    "hidden": true
   },
   "outputs": [],
   "source": []
  },
  {
   "cell_type": "markdown",
   "id": "71487ec7",
   "metadata": {},
   "source": [
    "## Sample neural network"
   ]
  },
  {
   "cell_type": "markdown",
   "id": "15b6a29a",
   "metadata": {},
   "source": [
    "![title](images/3.png)"
   ]
  },
  {
   "cell_type": "markdown",
   "id": "a4926ab8",
   "metadata": {},
   "source": [
    "### Forward"
   ]
  },
  {
   "cell_type": "markdown",
   "id": "e47d66e4",
   "metadata": {},
   "source": [
    "\\begin{array}{l}\n",
    "X_{n,m}: \\text{examples array, n is the number of features and m is the number of examples} \\\\\n",
    "Y_{c,m}: \\text{labels array, c is the number of classes and m is the number of examples} \\\\\n",
    "\\text{We just use one example, so $X=X[:,i]$, $Y=Y[:,i]$ that $X_{i}$ is the $i^{th}$ example and $Y_{i}$ is the $i^{th}$ label.} \\\\\n",
    "\\text{In MNIST dataset $X=X[0:784,i]$, $Y=Y[0:10,i]$ } \\\\\n",
    "W^{[l]}: \\text{weights in layer $l$} \\\\\n",
    "\\hline\n",
    "Z^{[ 1]} =W^{[ 1]} X+b^{[ 1]} ,\\ \\ \\ \\ \\ \\ \\ \\ \\ \\ A^{[ 1]} =g^{[ 1]}\\left( Z^{[ 1]}\\right)\\\\\n",
    "Z^{[ 2]} =W^{[ 2]} A^{[ 1]} +b^{[ 2]} ,\\ \\ \\ \\ \\ \\ A^{[ 2]} =g^{[ 2]}\\left( Z^{[ 2]}\\right)\\\\\n",
    "\\vdots \\ \\ \\ \\ \\ \\ \\ \\ \\ \\ \\ \\ \\ \\ \\ \\ \\ \\ \\ \\ \\ \\ \\ \\ \\ \\ \\ \\ \\ \\ \\ \\ \\ \\ \\ \\ \\ \\ \\ \\vdots \\\\\n",
    "Z^{[ l]} =W^{[ l]} A^{[ l-1]} +b^{[ l]} ,\\ \\ \\ \\ \\ A^{[ l]} =g^{[ l]}\\left( Z^{[ l]}\\right)\\\\\n",
    "\\vdots \\ \\ \\ \\ \\ \\ \\ \\ \\ \\ \\ \\ \\ \\ \\ \\ \\ \\ \\ \\ \\ \\ \\ \\ \\ \\ \\ \\ \\ \\ \\ \\ \\ \\ \\ \\ \\ \\ \\ \\vdots \\\\\n",
    "Z^{[ L]} =W^{[ L]} A^{[ L-1]} +b^{[ L]} ,\\ \\ A^{[ L]} =g^{[ L]}\\left( Z^{[ L]}\\right)\\\\\n",
    "\\\\\n",
    "A^{[ L]} =\\begin{cases}\n",
    "\\sigma \\left( Z^{[ L]}\\right) & binary\\ classification\\ \\\\\n",
    "S\\left( Z^{[ L]}\\right) & multi-class\\ classification\\ \n",
    "\\end{cases}\n",
    "\\end{array}"
   ]
  },
  {
   "cell_type": "markdown",
   "id": "a23a88f3",
   "metadata": {},
   "source": [
    "### Backward"
   ]
  },
  {
   "cell_type": "markdown",
   "id": "3bd11356",
   "metadata": {},
   "source": [
    "If you have a **sigmoid** output layer, and use the **binary cross-entropy** function: \n",
    "\n",
    "\\begin{array}{l}\n",
    "Y=\\begin{bmatrix}\n",
    "y_{1} & ... & y_{i} & ... & y_{m}\n",
    "\\end{bmatrix}\\\\\n",
    "\\hat Y=\\begin{bmatrix}\n",
    "\\hat y_{1} & ... & \\hat y_{i} & ... & \\hat y_{m}\n",
    "\\end{bmatrix}\\\\\n",
    "y = Y[i], \\hat y = \\hat Y[i], \\quad A^{[L]} = \\sigma (Z^{[L]}) = \\hat y \\\\\n",
    "\\mathcal{J} = -(y . log(\\hat y) + (1 - y) . log(1 - \\hat y)) \\\\\n",
    "dA^{[L]} = \\frac{\\partial \\mathcal{J}}{\\partial A^{[L]}} = -y \\frac{1}{\\hat y} - (1-y) \\frac{-1}{1-\\hat y} \\\\\n",
    "dZ^{[L]} = \\frac{\\partial \\mathcal{J}}{\\partial A^{[L]}} \\frac{\\partial A^{[L]}}{\\partial Z^{[L]}} = dA^{[L]} . \\frac{\\partial \\sigma(Z^{[L]})}{\\partial Z^{[L]}} = dA^{[L]} . \\sigma (Z^{[L]}) (1- \\sigma (Z^{[L]}))  \\\\\n",
    "dZ^{[L]} = (\\frac{-y}{\\hat y} + \\frac{1-y}{1-\\hat y}) . \\hat y (1- \\hat y) = \\hat y - y = A^{[L]} - y \\\\ \n",
    "\\end{array}"
   ]
  },
  {
   "cell_type": "markdown",
   "id": "3be2b08f",
   "metadata": {},
   "source": [
    "- In vectorization version weight and bias are divided by m\n",
    "\\begin{array}{l}\n",
    "dW^{[L]} = \\frac{\\partial \\mathcal{J}}{\\partial A^{[L]}} \\frac{\\partial A^{[L]}}{\\partial Z^{[L]}} \\frac{\\partial Z^{[L]}}{\\partial W^{[L]}} = \\frac{1}{m} dZ^{[L]} A^{[L-1]^{T}} \\\\\n",
    "db^{[L]} = \\frac{\\partial \\mathcal{J}}{\\partial A^{[L]}} \\frac{\\partial A^{[L]}}{\\partial Z^{[L]}} \\frac{\\partial Z^{[L]}}{\\partial b^{[L]}} = \\frac{1}{m} np.sum(dZ^{[L]}, axis=1, keepdims=True) \\\\\n",
    "\\vdots \\\\\n",
    "l = L-1, L-2, ... , 2 \\\\\n",
    "dZ^{[l]} = W^{[l+1]^{T}} dZ^{[l+1]} g^{'[l]} (Z^{[l]})  \\\\\n",
    "dW^{[l]} = \\frac{1}{m} dZ^{[l]} A^{[l-1]^{T}} \\\\\n",
    "db^{[l]} = \\frac{1}{m} np.sum(dZ^{[l]}, axis=1, keepdims=True) \\\\\n",
    "\\vdots \\\\\n",
    "l = 1 \\\\\n",
    "dZ^{[1]} = W^{[2]^{T}} dZ^{[2]} g^{'[1]} (Z^{[1]})  \\\\\n",
    "dW^{[1]} = \\frac{1}{m} dZ^{[1]} A^{[0]^{T}} = \\frac{1}{m} dZ^{[1]} X^{T} \\\\\n",
    "db^{[1]} = \\frac{1}{m} np.sum(dZ^{[1]}, axis=1, keepdims=True) \\\\ \\hline \\hline\n",
    "\\end{array}"
   ]
  },
  {
   "cell_type": "markdown",
   "id": "448e410c",
   "metadata": {
    "ExecuteTime": {
     "end_time": "2021-08-12T19:43:03.147642Z",
     "start_time": "2021-08-12T19:43:03.087398Z"
    }
   },
   "source": [
    "If you have a **softmax** output layer, and use the **categorical cross-entropy** function: \n",
    "\n",
    "$$\n",
    "\\text{softmax output} =A^{[L]} = S(Z) = O = \n",
    "\\begin{bmatrix}\n",
    "    S(z_{1}) \\\\\n",
    "    S(z_{2}) \\\\\n",
    "    \\vdots \\\\\n",
    "    S(z_{c})\n",
    "\\end{bmatrix}\n",
    "= \n",
    "\\begin{bmatrix}\n",
    "    o_{1} \\\\\n",
    "    o_{2} \\\\\n",
    "    \\vdots \\\\\n",
    "    o_{c}\n",
    "\\end{bmatrix}, \\quad\n",
    "\\sum_{i=1}^{c} S(z_{i}) = 1 \\\\\n",
    "$$\n",
    "$$\n",
    "\\text{error for $i^{th}$ example} = \n",
    "Error = - Y . log(O) = \n",
    "\\begin{bmatrix}\n",
    "    e_{1} \\\\\n",
    "    e_{2} \\\\\n",
    "    \\vdots \\\\\n",
    "    e_{c}\n",
    "\\end{bmatrix}\n",
    "=\n",
    "\\begin{bmatrix}\n",
    "    -y_{1} log(o_1) \\\\\n",
    "    -y_{2} log(o_2) \\\\\n",
    "    \\vdots \\\\\n",
    "    -y_{c} log(o_c)\n",
    "\\end{bmatrix} \\\\\n",
    "$$\n",
    "Error for one example: $Y$ is a $c \\times 1$ vector  \n",
    "for simplicity, we use ln() instead of log()\n",
    "$$\n",
    "E = \\sum_{i=1}^{c} e_{i} = - \\sum_{i=1}^{c} y_{i} ln(o_{i}) \\\\\n",
    "$$"
   ]
  },
  {
   "cell_type": "markdown",
   "id": "0c3f6cf8",
   "metadata": {
    "ExecuteTime": {
     "end_time": "2021-08-12T19:43:03.147642Z",
     "start_time": "2021-08-12T19:43:03.087398Z"
    }
   },
   "source": [
    "$$\n",
    "dA_{k} = \\frac{\\partial E}{\\partial A_{k}} = \\frac{\\partial (- \\sum_{i=1}^{c} y_{i} ln(o_{i}))}{\\partial A_{k}} = - \\frac{\\partial \\sum_{i=1}^{c} y_{i} ln(A_{i})}{\\partial A_{k}} = \n",
    "- \\sum_{i=1}^{c} y_{i} \\frac{\\partial ln(A_{i})}{\\partial A_{k}} = -y_{k} \\: \\text{if i=k} \\\\\n",
    "$$"
   ]
  },
  {
   "cell_type": "markdown",
   "id": "1457533c",
   "metadata": {
    "ExecuteTime": {
     "end_time": "2021-08-12T19:43:03.147642Z",
     "start_time": "2021-08-12T19:43:03.087398Z"
    }
   },
   "source": [
    "$$\n",
    "dz_{k} = \\frac{\\partial E}{\\partial Z_{k}} = \\frac{\\partial E}{\\partial A_{k}} \\frac{\\partial A_{k}}{\\partial Z_{k}} = \\frac{\\partial (- \\sum_{i=1}^{c} y_{i} ln(o_{i}))}{\\partial Z_{k}} \\\\\n",
    "\\frac{\\partial E}{\\partial Z_{k}} = - \\sum_{i=1}^{c} y_{i} \\frac{\\partial ln(o_{i})}{\\partial Z_{k}} \\\\\n",
    "\\frac{\\partial E}{\\partial Z_{k}} = - \\sum_{i=1}^{c} y_{i} \\frac{\\partial ln(o_{i})}{\\partial o_{i}} . \\frac{\\partial o_{i}}{\\partial Z_{k}} = \n",
    "- \\sum_{i=1}^{c} \\big( \\frac{y_{i}}{o_{i}} . \\frac{\\partial o_{i}}{\\partial Z_{k}} \\big) \\\\\n",
    "$$"
   ]
  },
  {
   "cell_type": "markdown",
   "id": "7f13a514",
   "metadata": {},
   "source": [
    "$$\n",
    "o_{i} = S(z_{i}) = \\frac{e^{z_{i}}}{\\sum_{j=1}^{c} e^{z_{j}}} \\\\\n",
    "\\frac{\\partial o_{i}}{\\partial Z_{k}} = \n",
    "\\begin{cases}\n",
    "\\frac{e^{Z_{i}} . \\sum_{j=1}^{c} e^{z_{j}} - e^{Z_{i}}.e^{Z_{i}}}{(\\sum_{j=1}^{c} e^{z_{j}})^2} = \n",
    "\\frac{e^{Z_{i}}}{\\sum_{j=1}^{c} e^{z_{j}}} . (1 - \\frac{e^{Z_{i}}}{\\sum_{j=1}^{c} e^{z_{j}}}) = o_{i}(1-o_{i}), & \\quad i = k \\\\\n",
    "\\frac{0 . \\sum_{j=1}^{c} e^{z_{j}} - e^{Z_{k}}.e^{Z_{i}}}{(\\sum_{j=1}^{c} e^{z_{j}})^2} = \n",
    "\\frac{-e^{Z_{k}}}{\\sum_{j=1}^{c} e^{z_{j}}} . \\frac{e^{Z_{i}}}{\\sum_{j=1}^{c} e^{z_{j}}} = -o_{k}o_{i}, & \\quad i \\neq k \\\\\n",
    "\\end{cases}\n",
    "$$"
   ]
  },
  {
   "cell_type": "markdown",
   "id": "cee7ba9f",
   "metadata": {},
   "source": [
    "$$\n",
    "\\frac{\\partial E}{\\partial Z_{k}} = - \\bigg( \\overbrace{\\sum_{i=1, i\\neq k}^{c} \\big( \\frac{y_{i}}{o_{i}} (-o_{k}o_{i}) \\big)}^\\text{i $\\neq$ k} + \\overbrace{\\frac{y_{k}}{o_{k}} o_{k}(1-o_{k})}^\\text{i=k} \\bigg) \\\\\n",
    "\\frac{\\partial E}{\\partial Z_{k}} = -y_{k}(1-o_{k}) + \\sum_{i=1, i\\neq k}^{c} y_{i}o_{k} =\n",
    "-y_{k}(1-o_{k}) + o_{k} \\sum_{i=1, i\\neq k}^{c} y_{i}, \\quad \\sum_{i=1}^{c} y_{i} = 1 \\rightarrow \\sum_{i=1, i\\neq k}^{c} y_{i} = 1 - y_{k} \\\\\n",
    "\\frac{\\partial E}{\\partial Z_{k}} = -y_{k}(1-o_{k}) + o_{k} (1 - y_{k}) = -y_{k} + y_{k}o_{k} + o_{k} - o_{k} y_{k} = o_{k} - y_{k} \\\\\n",
    "\\text{Z, A, O, Y, E are $c \\times 1$ vectors,} \\quad dZ^{[L]} = \\frac{\\partial E}{\\partial Z} = O - Y = S(Z) - Y = A^{[L]} - Y \\\\\n",
    "$$"
   ]
  },
  {
   "cell_type": "markdown",
   "id": "4e18a380",
   "metadata": {},
   "source": [
    "***"
   ]
  },
  {
   "cell_type": "markdown",
   "id": "1d1c4c68",
   "metadata": {
    "ExecuteTime": {
     "end_time": "2021-08-12T19:43:03.147642Z",
     "start_time": "2021-08-12T19:43:03.087398Z"
    }
   },
   "source": [
    "$$\n",
    "dZ^{[L]} = A^{[L]} - Y \\\\ \n",
    "dW^{[L]} = \\frac{\\partial E}{\\partial A^{[L]}} \\frac{\\partial A^{[L]}}{\\partial Z^{[L]}} \\frac{\\partial Z^{[L]}}{\\partial W^{[L]}} = \\frac{1}{m} dZ^{[L]} A^{[L-1]^{T}} \\\\\n",
    "db^{[L]} = \\frac{\\partial E}{\\partial A^{[L]}} \\frac{\\partial A^{[L]}}{\\partial Z^{[L]}} \\frac{\\partial Z^{[L]}}{\\partial b^{[L]}} = \\frac{1}{m} np.sum(dZ^{[L]}, axis=1, keepdims=True) \\\\\n",
    "\\vdots \\\\\n",
    "l = L-1, L-2, ... , 2 \\\\\n",
    "dZ^{[l]} = W^{[l+1]^{T}} dZ^{[l+1]} g^{'[l]} (Z^{[l]})  \\\\\n",
    "dW^{[l]} = \\frac{1}{m} dZ^{[l]} A^{[l-1]^{T}} \\\\\n",
    "db^{[l]} = \\frac{1}{m} np.sum(dZ^{[l]}, axis=1, keepdims=True) \\\\\n",
    "\\vdots \\\\\n",
    "l = 1 \\\\\n",
    "dZ^{[1]} = W^{[2]^{T}} dZ^{[2]} g^{'[1]} (Z^{[1]})  \\\\\n",
    "dW^{[1]} = \\frac{1}{m} dZ^{[1]} A^{[0]^{T}} = \\frac{1}{m} dZ^{[1]} X^{T} \\\\\n",
    "db^{[1]} = \\frac{1}{m} np.sum(dZ^{[1]}, axis=1, keepdims=True) \\\\\n",
    "$$"
   ]
  },
  {
   "cell_type": "markdown",
   "id": "324f53cb",
   "metadata": {},
   "source": [
    "## Sequential"
   ]
  },
  {
   "cell_type": "code",
   "execution_count": null,
   "id": "234632bd",
   "metadata": {},
   "outputs": [],
   "source": []
  },
  {
   "cell_type": "code",
   "execution_count": 4,
   "id": "17e2d89a",
   "metadata": {
    "ExecuteTime": {
     "end_time": "2021-08-17T13:43:50.097702Z",
     "start_time": "2021-08-17T13:43:50.084838Z"
    }
   },
   "outputs": [],
   "source": [
    "class layers():\n",
    "    class Dense():\n",
    "        def __init__(self, fan_in, fan_out, activation=None, initialization=None):\n",
    "            self.init = initialization\n",
    "            model.activations.append(activation)\n",
    "            self.activation = activation\n",
    "            self.t = 0\n",
    "            \n",
    "            if self.init == 'RandomNormal':\n",
    "                self.weight, self.bias, self.vdw, self.vdb, self.sdw, self.sdb = initializers.RandomNormal(fan_in, fan_out)\n",
    "            \n",
    "            elif self.init == 'RandomUniform':\n",
    "                self.weight, self.bias, self.vdw, self.vdb, self.sdw, self.sdb = initializers.RandomUniform(fan_in, fan_out)\n",
    "\n",
    "            elif self.init == 'GlorotNormal':\n",
    "                self.weight, self.bias, self.vdw, self.vdb, self.sdw, self.sdb = initializers.GlorotNormal(fan_in, fan_out)\n",
    "            \n",
    "            elif self.init == 'GlorotUniform':\n",
    "                self.weight, self.bias, self.vdw, self.vdb, self.sdw, self.sdb = initializers.GlorotUniform(fan_in, fan_out)\n",
    "                \n",
    "            elif self.init == 'HeNormal':\n",
    "                self.weight, self.bias, self.vdw, self.vdb, self.sdw, self.sdb = initializers.HeNormal(fan_in, fan_out)\n",
    "            \n",
    "            elif self.init == 'HeUniform':\n",
    "                self.weight, self.bias, self.vdw, self.vdb, self.sdw, self.sdb = initializers.HeUniform(fan_in, fan_out)\n",
    "            \n",
    "            elif self.init == 'LecunNormal':\n",
    "                self.weight, self.bias, self.vdw, self.vdb, self.sdw, self.sdb = initializers.LecunNormal(fan_in, fan_out)\n",
    "\n",
    "            elif self.init == 'LecunUniform':\n",
    "                self.weight, self.bias, self.vdw, self.vdb, self.sdw, self.sdb = initializers.LecunUniform(fan_in, fan_out)\n",
    "\n",
    "            else:\n",
    "                self.weight, self.bias, self.vdw, self.vdb, self.sdw, self.sdb = initializers.LecunNormal(fan_in, fan_out)\n",
    "\n",
    "        \n",
    "        def forward(self, A_prev):\n",
    "            self.A_prev = A_prev\n",
    "            Z = np.dot(self.weight, self.A_prev) + self.bias\n",
    "            return Z\n",
    "        "
   ]
  },
  {
   "cell_type": "code",
   "execution_count": 18,
   "id": "c13097fb",
   "metadata": {
    "ExecuteTime": {
     "end_time": "2021-08-15T19:52:26.114260Z",
     "start_time": "2021-08-15T19:52:25.987324Z"
    }
   },
   "outputs": [],
   "source": [
    "\n",
    "class Sequential:\n",
    "    def __init__(self, layers=None, name=None):\n",
    "        self.layers = [None]\n",
    "        self.activations = [None]\n",
    "        self.costs = []\n",
    "        self.accuracy = []\n",
    "\n",
    "    def add(self, layer):\n",
    "        self.layers.append(layer)\n",
    "        \n",
    "    def Compile(self, optimizer=None, loss=None, metrics=None):\n",
    "        if type(optimizer) == str:\n",
    "             optimizer = eval('optimizers.' + optimizer.lower() + '()')\n",
    "        \n",
    "        self.optimizer = optimizer\n",
    "        self.loss = loss\n",
    "        self.metrics = metrics\n",
    "        \n",
    "        \n",
    "    def forward(self, X):\n",
    "        A = X\n",
    "        self.Z_cache.append(X)\n",
    "        self.A_cache.append(X)\n",
    "        m = X_train.shape[1]\n",
    "        for l in range(1, len(model.layers)):\n",
    "            Z = model.layers[l].forward(A)\n",
    "            self.Z_cache.append(Z)\n",
    "            A = eval(model.activations[l]).activation(Z)\n",
    "            self.A_cache.append(A)\n",
    "        \n",
    "        self.Y_hat = A\n",
    "        return self.Y_hat\n",
    "        \n",
    "        \n",
    "    def backward(self, Y):\n",
    "        m = Y.shape[1]\n",
    "        dZ = self.Y_hat - Y    # dZ^[L] = dZ = dJ/dA * dA/dZ\n",
    "        \n",
    "        for l in reversed(range(1, len(model.layers))):\n",
    "            \n",
    "            dw = 1/m*np.dot(dZ, self.A_cache[l - 1].T)\n",
    "            db = 1/m*np.sum(dZ, axis=1, keepdims=True)\n",
    "            \n",
    "            self.update_parameters(index=l, dw=dw, db=db)\n",
    "            \n",
    "            if l != 1:\n",
    "                # calculate dZ for next iteration\n",
    "                dZ = np.dot(model.layers[l].weight.T, dZ) * \\\n",
    "                            eval(model.activations[l - 1]).prime(self.Z_cache[l - 1])\n",
    "            \n",
    "        \n",
    "    def update_parameters(self, index, dw, db):\n",
    "        \n",
    "        if self.optimizer.name.lower() == 'gd':\n",
    "            self.optimizer.update(index=index, dw=dw, db=db)\n",
    "\n",
    "        elif self.optimizer.name.lower() == 'momentum':\n",
    "            self.optimizer.update(index=index, dw=dw, db=db)\n",
    "    \n",
    "        elif self.optimizer.name.lower() == 'rmsprop':\n",
    "            self.optimizer.update(index=index, dw=dw, db=db)  \n",
    "            \n",
    "        elif self.optimizer.name.lower() == 'adam':\n",
    "            self.optimizer.update(index=index, dw=dw, db=db)  \n",
    "\n",
    "        else:\n",
    "            self.optimizer = optimizers.rmsprop()\n",
    "            self.optimizer.update(index=index, dw=dw, db=db)\n",
    "            \n",
    "                \n",
    "    def fit(self, X_train=None, Y_train=None, batch_size=None, epochs=1, verbose=0, shuffle=False):\n",
    "        \n",
    "        m = X_train.shape[1]\n",
    "        iteration = m // batch_size\n",
    "        \n",
    "        self.A_cache = []\n",
    "        self.Z_cache = []\n",
    "        \n",
    "        for epoch in range(1, epochs+1):\n",
    "            tmp_cost = 0.0\n",
    "            tmp_acc = 0.0\n",
    "            \n",
    "            if verbose:\n",
    "                print(f'Epoch {epoch}/{epochs}', end='\\n')\n",
    "                \n",
    "            start = time.time()\n",
    "            \n",
    "            for batch in range(iteration):\n",
    "                \n",
    "                X = X_train[:, batch * batch_size: (batch+1) * batch_size]\n",
    "                Y = Y_train[:, batch * batch_size: (batch+1) * batch_size]\n",
    "                \n",
    "                y_hat_batch = self.forward(X)\n",
    "                \n",
    "                if self.loss == 'BinaryCrossentropy':\n",
    "                    batch_cost = losses.BinaryCrossentropy(y_hat=y_hat_batch, y_true=Y)\n",
    "                    tmp_cost += batch_cost * batch_size\n",
    "                    batch_acc = Metric.binary_accuracy(y_pred=y_hat_batch, y_true=Y)\n",
    "                    tmp_acc += batch_acc * batch_size\n",
    "                    \n",
    "                elif self.loss == 'CategoricalCrossentropy':\n",
    "                    \n",
    "                    batch_cost = losses.CategoricalCrossentropy(y_hat=y_hat_batch, y_true=Y)\n",
    "                    tmp_cost += batch_cost * batch_size\n",
    "                    batch_acc = Metric.categorical_accuracy(y_pred=y_hat_batch, y_true=Y)\n",
    "                    tmp_acc += batch_acc * batch_size\n",
    "                    \n",
    "                exec_time_b = (time.time() - start) * 1000\n",
    "                \n",
    "                if verbose:\n",
    "                    p = int(batch/iteration * 30)\n",
    "                    prog = ' [' + '='*p + '>' + ' '*(30 - (p+1)) + '] '\n",
    "                    print(f'{batch+1}/{iteration}' + prog + '- ' + \\\n",
    "                      f'{format(exec_time_b, \"10.3\")} ms/step - loss:{format(batch_cost, \"10.3e\")} - ' + \\\n",
    "                      f'accuracy:{format(batch_acc, \" 0.5\")}', end='\\r')\n",
    "            \n",
    "                self.backward(Y)\n",
    "                \n",
    "            \n",
    "            exec_time = (time.time() - start) * 1000\n",
    "            \n",
    "            if verbose:                \n",
    "                prog = ' [' + '='* 30 + '] '\n",
    "                print(f'{iteration}/{iteration}' + prog + '- ' + \\\n",
    "                      f'{format(exec_time, \"10.3\")} ms/step - loss:{format(tmp_cost / m, \"10.3e\")} - ' + \\\n",
    "                      f'accuracy:{format(tmp_acc / m, \" 0.5\")}', end='\\r')\n",
    "                print()\n",
    "                            \n",
    "            self.costs.append(tmp_cost / m)     # cost per epoch\n",
    "            self.accuracy.append(tmp_acc / m)\n",
    "\n",
    "# ---------------------------------------------------------------------------\n",
    "    def predict(self, X_test, batch_size, verbose=0):\n",
    "        m = X_test.shape[1]\n",
    "        iteration = m // batch_size\n",
    "        y_hat_test = np.empty((self.Y_hat.shape[0],0))\n",
    "    \n",
    "        start = time.time()\n",
    "        for batch in range(iteration):\n",
    "            X = X_test[:, batch * batch_size: (batch+1) * batch_size]\n",
    "            #Y = Y_train[:, batch * batch_size: (batch+1) * batch_size]\n",
    "            # Forward\n",
    "            A = X        \n",
    "            for l in range(1, len(model.layers)):\n",
    "                Z = model.layers[l].forward(A)\n",
    "                A = eval(model.activations[l]).activation(Z)\n",
    "             \n",
    "            y_hat = A\n",
    "            y_hat_test = np.concatenate((y_hat_test, y_hat), axis=1)\n",
    "            exec_time_b = (time.time() - start) * 1000\n",
    "\n",
    "            if verbose:\n",
    "                p = int(batch/iteration * 30)\n",
    "                prog = ' [' + '='*p + '>' + ' '*(30 - (p+1)) + '] '\n",
    "                print(f'{batch+1}/{iteration}' + prog + '- ' + \\\n",
    "                  f'{format(exec_time_b, \"10.3\")} ms/step', end='\\r')\n",
    "\n",
    "        exec_time = (time.time() - start) * 1000\n",
    "\n",
    "        if verbose:\n",
    "            prog = ' [' + '='* 30 + '] '\n",
    "            print(f'{iteration}/{iteration}' + prog + '- ' + \\\n",
    "                  f'{format(exec_time, \"10.3\")} ms/step', end='\\r')\n",
    "            print()\n",
    "        \n",
    "        return y_hat_test\n",
    "\n",
    "    \n",
    "    def evaluate(self, X_test, Y_test, batch_size, verbose=0):\n",
    "        \n",
    "        m = X_test.shape[1]\n",
    "        iteration = m // batch_size\n",
    "        y_hat_eval = np.empty((Y_test.shape[0],0))\n",
    "\n",
    "        tmp_cost = 0.0\n",
    "        tmp_acc = 0.0\n",
    "        \n",
    "        start = time.time()\n",
    "        for batch in range(iteration):\n",
    "\n",
    "            X = X_test[:, batch * batch_size: (batch+1) * batch_size]\n",
    "            Y = Y_test[:, batch * batch_size: (batch+1) * batch_size]\n",
    "\n",
    "            # Forward\n",
    "            A = X        \n",
    "            for l in range(1, len(model.layers)):\n",
    "                Z = model.layers[l].forward(A)\n",
    "                A = eval(model.activations[l]).activation(Z)\n",
    "                \n",
    "            y_hat = A\n",
    "            y_hat_eval = np.concatenate((y_hat_eval, y_hat), axis=1)\n",
    "\n",
    "            if self.loss == 'BinaryCrossentropy':\n",
    "                batch_cost = losses.BinaryCrossentropy(y_hat=y_hat, y_true=Y)\n",
    "                tmp_cost += batch_cost * batch_size\n",
    "                batch_acc = Metric.binary_accuracy(y_pred=y_hat, y_true=Y)\n",
    "                tmp_acc += batch_acc * batch_size\n",
    "\n",
    "            elif self.loss == 'CategoricalCrossentropy':\n",
    "\n",
    "                batch_cost = losses.CategoricalCrossentropy(y_hat=y_hat, y_true=Y)\n",
    "                tmp_cost += batch_cost * batch_size\n",
    "                batch_acc = Metric.categorical_accuracy(y_pred=y_hat, y_true=Y)\n",
    "                tmp_acc += batch_acc * batch_size\n",
    "\n",
    "            exec_time_b = (time.time() - start) * 1000\n",
    "\n",
    "            if verbose:\n",
    "                p = int(batch/iteration * 30)\n",
    "                prog = ' [' + '='*p + '>' + ' '*(30 - (p+1)) + '] '\n",
    "                print(f'{batch+1}/{iteration}' + prog + '- ' + \\\n",
    "                  f'{format(exec_time_b, \"10.3\")} ms/step - loss:{format(batch_cost, \"10.3e\")} - ' + \\\n",
    "                  f'accuracy:{format(batch_acc, \" 0.5\")}', end='\\r')\n",
    "\n",
    "            #self.backward(Y)\n",
    "\n",
    "        exec_time = (time.time() - start) * 1000\n",
    "\n",
    "        if verbose:\n",
    "            prog = ' [' + '='* 30 + '] '\n",
    "            print(f'{iteration}/{iteration}' + prog + '- ' + \\\n",
    "                  f'{format(exec_time, \"10.3\")} ms/step - loss:{format(tmp_cost / m, \"10.3e\")} - ' + \\\n",
    "                  f'accuracy:{format(tmp_acc / m, \" 0.5\")}', end='\\r')\n",
    "            print()\n",
    "        \n",
    "        return tmp_cost/m, tmp_acc/m\n",
    "        \n",
    "        \n",
    "        if self.loss == 'BinaryCrossentropy':\n",
    "            acc = Metric.binary_accuracy(y_pred=A, y_true=Y_test)\n",
    "            print()\n",
    "            \n",
    "        elif self.loss == 'CategoricalCrossentropy':\n",
    "            return Metric.categorical_accuracy(y_pred=A, y_true=Y_test)\n",
    "\n",
    "        \n",
    "    def test_img(self, file_path):\n",
    "        image = plt.imread(file_path)\n",
    "        img = np.dot(image[...,:3], [0.2989, 0.5870, 0.1140])\n",
    "        plt.imshow(image)\n",
    "        # reshape into a single sample with 1 channel\n",
    "        img = img.reshape(28 * 28, 1)\n",
    "        img = img.astype('float32')\n",
    "        img = img / 255\n",
    "\n",
    "        A = img       \n",
    "        for l in range(1, len(model.layers)):\n",
    "            Z = model.layers[l].forward(A)\n",
    "            A = eval(model.activations[l]).activation(Z)\n",
    "\n",
    "        y_hat = A\n",
    "        digit = np.argmax(y_hat, axis=0)\n",
    "        digit = str(np.squeeze(digit))\n",
    "        print(f'Predicted label is: {digit}')\n",
    "        \n",
    "        \n",
    "        \n",
    "\n",
    "    def plot_cost_accuracy(self):\n",
    "        fig, (ax1, ax2) = plt.subplots(1, 2, figsize=(10, 5))\n",
    "        fig.suptitle('optimizer: ' + self.optimizer.name)\n",
    "        ax1.set_ylabel('Cost')\n",
    "        # ax1.set_title('cost')\n",
    "        ax1.plot(self.costs)\n",
    "        ax1.grid(True)\n",
    "\n",
    "        ax2.set_ylabel('Accuracy')\n",
    "        # ax2.set_title('acc')\n",
    "        ax2.plot(self.accuracy)\n",
    "        ax2.grid(True)\n",
    "        \n",
    "    \n",
    "    def save_model(self,fname, model_obj):\n",
    "        try:\n",
    "            with bz2.BZ2File(fname, 'wb') as f:\n",
    "                pickle.dump(model_obj, f)\n",
    "\n",
    "        except:\n",
    "            print('File ' + fname + ' cannot be written\\n')\n",
    "            return\n",
    "\n",
    "\n",
    "    def load_model(self, filename):\n",
    "        try:\n",
    "            with bz2.BZ2File(fname, 'rb') as f:\n",
    "                model_obj = pickle.load(f)\n",
    "            return model_obj\n",
    "        except:\n",
    "            print('File ' + filename + ' cannot be read\\n')\n",
    "            return"
   ]
  },
  {
   "cell_type": "code",
   "execution_count": 19,
   "id": "3bb77e23",
   "metadata": {
    "ExecuteTime": {
     "end_time": "2021-08-15T19:52:26.931860Z",
     "start_time": "2021-08-15T19:52:26.927759Z"
    }
   },
   "outputs": [],
   "source": [
    "# for optimizer use optimizer name like optimizer='adam' or use optimizer='optimizers.Adam()'\n",
    "# for loss use loss name like loss='CategoricalCrossentropy'"
   ]
  },
  {
   "cell_type": "code",
   "execution_count": 23,
   "id": "24721f43",
   "metadata": {
    "ExecuteTime": {
     "end_time": "2021-08-15T19:53:32.352207Z",
     "start_time": "2021-08-15T19:53:32.323726Z"
    }
   },
   "outputs": [],
   "source": [
    "model = Sequential()\n",
    "\n",
    "model.add(layers.Dense(784, 128, activation='relu', initialization='HeNormal'))\n",
    "\n",
    "model.add(layers.Dense(128, 10, activation='softmax', initialization='GlorotNormal'))"
   ]
  },
  {
   "cell_type": "code",
   "execution_count": 24,
   "id": "59ef7a8d",
   "metadata": {
    "ExecuteTime": {
     "end_time": "2021-08-15T19:53:32.705779Z",
     "start_time": "2021-08-15T19:53:32.700117Z"
    }
   },
   "outputs": [],
   "source": [
    "model.Compile(loss='CategoricalCrossentropy', optimizer=optimizers.rmsprop())"
   ]
  },
  {
   "cell_type": "code",
   "execution_count": 25,
   "id": "18d81255",
   "metadata": {
    "ExecuteTime": {
     "end_time": "2021-08-15T19:55:27.701367Z",
     "start_time": "2021-08-15T19:53:33.788507Z"
    },
    "scrolled": true
   },
   "outputs": [
    {
     "name": "stdout",
     "output_type": "stream",
     "text": [
      "Epoch 1/50\n",
      "10/10 [==============================] -   8.71e+02 ms/step - loss: 2.169e+00 - accuracy: 0.24437\n",
      "Epoch 2/50\n",
      "10/10 [==============================] -   1.02e+03 ms/step - loss: 1.863e+00 - accuracy: 0.53217\n",
      "Epoch 3/50\n",
      "10/10 [==============================] -   1.75e+03 ms/step - loss: 1.660e+00 - accuracy: 0.64778\n",
      "Epoch 4/50\n",
      "10/10 [==============================] -    1.7e+03 ms/step - loss: 1.497e+00 - accuracy: 0.69813\n",
      "Epoch 5/50\n",
      "10/10 [==============================] -   1.24e+03 ms/step - loss: 1.362e+00 - accuracy: 0.72858\n",
      "Epoch 6/50\n",
      "10/10 [==============================] -   2.44e+03 ms/step - loss: 1.251e+00 - accuracy: 0.75218\n",
      "Epoch 7/50\n",
      "10/10 [==============================] -   1.19e+03 ms/step - loss: 1.159e+00 - accuracy: 0.76688\n",
      "Epoch 8/50\n",
      "10/10 [==============================] -   1.15e+03 ms/step - loss: 1.083e+00 - accuracy: 0.78083\n",
      "Epoch 9/50\n",
      "10/10 [==============================] -   1.63e+03 ms/step - loss: 1.019e+00 - accuracy: 0.79013\n",
      "Epoch 10/50\n",
      "10/10 [==============================] -   1.55e+03 ms/step - loss: 9.651e-01 - accuracy: 0.79807\n",
      "Epoch 11/50\n",
      "10/10 [==============================] -   1.11e+03 ms/step - loss: 9.191e-01 - accuracy: 0.80427\n",
      "Epoch 12/50\n",
      "10/10 [==============================] -   1.96e+03 ms/step - loss: 8.793e-01 - accuracy: 0.80927\n",
      "Epoch 13/50\n",
      "10/10 [==============================] -   1.83e+03 ms/step - loss: 8.446e-01 - accuracy: 0.81347\n",
      "Epoch 14/50\n",
      "10/10 [==============================] -   1.19e+03 ms/step - loss: 8.141e-01 - accuracy: 0.8167\n",
      "Epoch 15/50\n",
      "10/10 [==============================] -   1.25e+03 ms/step - loss: 7.870e-01 - accuracy: 0.81973\n",
      "Epoch 16/50\n",
      "10/10 [==============================] -   1.98e+03 ms/step - loss: 7.628e-01 - accuracy: 0.82155\n",
      "Epoch 17/50\n",
      "10/10 [==============================] -    1.9e+03 ms/step - loss: 7.412e-01 - accuracy: 0.82402\n",
      "Epoch 18/50\n",
      "10/10 [==============================] -   1.57e+03 ms/step - loss: 7.217e-01 - accuracy: 0.82578\n",
      "Epoch 19/50\n",
      "10/10 [==============================] -   1.05e+03 ms/step - loss: 7.042e-01 - accuracy: 0.82738\n",
      "Epoch 20/50\n",
      "10/10 [==============================] -   1.62e+03 ms/step - loss: 6.884e-01 - accuracy: 0.82862\n",
      "Epoch 21/50\n",
      "10/10 [==============================] -   1.62e+03 ms/step - loss: 6.742e-01 - accuracy: 0.83062\n",
      "Epoch 22/50\n",
      "10/10 [==============================] -   1.59e+03 ms/step - loss: 6.614e-01 - accuracy: 0.83178\n",
      "Epoch 23/50\n",
      "10/10 [==============================] -   1.67e+03 ms/step - loss: 6.499e-01 - accuracy: 0.83287\n",
      "Epoch 24/50\n",
      "10/10 [==============================] -   1.52e+03 ms/step - loss: 6.395e-01 - accuracy: 0.83382\n",
      "Epoch 25/50\n",
      "10/10 [==============================] -   1.31e+03 ms/step - loss: 6.301e-01 - accuracy: 0.83453\n",
      "Epoch 26/50\n",
      "10/10 [==============================] -   1.85e+03 ms/step - loss: 6.217e-01 - accuracy: 0.83527\n",
      "Epoch 27/50\n",
      "10/10 [==============================] -   1.57e+03 ms/step - loss: 6.141e-01 - accuracy: 0.83583\n",
      "Epoch 28/50\n",
      "10/10 [==============================] -   1.94e+03 ms/step - loss: 6.073e-01 - accuracy: 0.8367\n",
      "Epoch 29/50\n",
      "10/10 [==============================] -   1.42e+03 ms/step - loss: 6.014e-01 - accuracy: 0.83592\n",
      "Epoch 30/50\n",
      "10/10 [==============================] -   1.11e+03 ms/step - loss: 5.961e-01 - accuracy: 0.83567\n",
      "Epoch 31/50\n",
      "10/10 [==============================] -   1.73e+03 ms/step - loss: 5.916e-01 - accuracy: 0.83615\n",
      "Epoch 32/50\n",
      "10/10 [==============================] -   1.59e+03 ms/step - loss: 5.877e-01 - accuracy: 0.83632\n",
      "Epoch 33/50\n",
      "10/10 [==============================] -    1.9e+03 ms/step - loss: 5.845e-01 - accuracy: 0.83623\n",
      "Epoch 34/50\n",
      "10/10 [==============================] -   1.47e+03 ms/step - loss: 5.819e-01 - accuracy: 0.83578\n",
      "Epoch 35/50\n",
      "10/10 [==============================] -   1.11e+03 ms/step - loss: 5.798e-01 - accuracy: 0.83558\n",
      "Epoch 36/50\n",
      "10/10 [==============================] -   1.84e+03 ms/step - loss: 5.782e-01 - accuracy: 0.83527\n",
      "Epoch 37/50\n",
      "10/10 [==============================] -    1.7e+03 ms/step - loss: 5.772e-01 - accuracy: 0.83467\n",
      "Epoch 38/50\n",
      "10/10 [==============================] -   1.66e+03 ms/step - loss: 5.766e-01 - accuracy: 0.83405\n",
      "Epoch 39/50\n",
      "10/10 [==============================] -    1.6e+03 ms/step - loss: 5.764e-01 - accuracy: 0.83373\n",
      "Epoch 40/50\n",
      "10/10 [==============================] -    1.2e+03 ms/step - loss: 5.766e-01 - accuracy: 0.83295\n",
      "Epoch 41/50\n",
      "10/10 [==============================] -   2.07e+03 ms/step - loss: 5.772e-01 - accuracy: 0.83243\n",
      "Epoch 42/50\n",
      "10/10 [==============================] -   1.65e+03 ms/step - loss: 5.783e-01 - accuracy: 0.83175\n",
      "Epoch 43/50\n",
      "10/10 [==============================] -   1.83e+03 ms/step - loss: 5.796e-01 - accuracy: 0.83093\n",
      "Epoch 44/50\n",
      "10/10 [==============================] -   1.97e+03 ms/step - loss: 5.814e-01 - accuracy: 0.82998\n",
      "Epoch 45/50\n",
      "10/10 [==============================] -   2.47e+03 ms/step - loss: 5.835e-01 - accuracy: 0.82888\n",
      "Epoch 46/50\n",
      "10/10 [==============================] -   9.06e+03 ms/step - loss: 5.859e-01 - accuracy: 0.82772\n",
      "Epoch 47/50\n",
      "10/10 [==============================] -   2.85e+04 ms/step - loss: 5.887e-01 - accuracy: 0.82668\n",
      "Epoch 48/50\n",
      "10/10 [==============================] -   1.64e+03 ms/step - loss: 5.917e-01 - accuracy: 0.82558\n",
      "Epoch 49/50\n",
      "10/10 [==============================] -   1.76e+03 ms/step - loss: 5.950e-01 - accuracy: 0.82467\n",
      "Epoch 50/50\n",
      "10/10 [==============================] -   1.53e+03 ms/step - loss: 5.986e-01 - accuracy: 0.82342\n"
     ]
    }
   ],
   "source": [
    "model.fit(X_train.T, y_train.T, batch_size=6000, epochs=50, verbose=1)"
   ]
  },
  {
   "cell_type": "code",
   "execution_count": 26,
   "id": "ced49038",
   "metadata": {
    "ExecuteTime": {
     "end_time": "2021-08-15T19:55:33.961814Z",
     "start_time": "2021-08-15T19:55:33.506746Z"
    }
   },
   "outputs": [
    {
     "name": "stdout",
     "output_type": "stream",
     "text": [
      "19/19 [==============================] -   4.04e+02 ms/step - loss: 5.716e-01 - accuracy: 0.80956\n"
     ]
    },
    {
     "data": {
      "text/plain": [
       "(0.5716047688955991, 0.8095)"
      ]
     },
     "execution_count": 26,
     "metadata": {},
     "output_type": "execute_result"
    }
   ],
   "source": [
    "model.evaluate(X_test.T, y_test.T, batch_size=512, verbose=1)"
   ]
  },
  {
   "cell_type": "code",
   "execution_count": 27,
   "id": "c817d585",
   "metadata": {
    "ExecuteTime": {
     "end_time": "2021-08-15T19:55:38.180322Z",
     "start_time": "2021-08-15T19:55:38.056681Z"
    }
   },
   "outputs": [
    {
     "name": "stdout",
     "output_type": "stream",
     "text": [
      "1/20 [>                             ] -       8.62 ms/step\r",
      "2/20 [=>                            ] -       12.2 ms/step\r",
      "3/20 [===>                          ] -       18.5 ms/step\r",
      "4/20 [====>                         ] -       25.4 ms/step\r",
      "5/20 [======>                       ] -       33.9 ms/step\r",
      "6/20 [=======>                      ] -       38.1 ms/step\r",
      "7/20 [=========>                    ] -       48.1 ms/step\r",
      "8/20 [==========>                   ] -       51.7 ms/step\r",
      "9/20 [============>                 ] -       57.6 ms/step\r",
      "10/20 [=============>                ] -       67.8 ms/step\r",
      "11/20 [===============>              ] -       70.5 ms/step\r",
      "12/20 [================>             ] -       73.1 ms/step\r",
      "13/20 [==================>           ] -       80.7 ms/step\r",
      "14/20 [===================>          ] -       85.4 ms/step\r",
      "15/20 [=====================>        ] -       91.4 ms/step\r",
      "16/20 [======================>       ] -       94.1 ms/step\r",
      "17/20 [========================>     ] -       96.7 ms/step\r",
      "18/20 [=========================>    ] -       99.6 ms/step\r",
      "19/20 [===========================>  ] -   1.02e+02 ms/step\r",
      "20/20 [============================> ] -   1.14e+02 ms/step\r",
      "20/20 [==============================] -   1.14e+02 ms/step\r\n"
     ]
    },
    {
     "data": {
      "text/plain": [
       "(10, 10000)"
      ]
     },
     "execution_count": 27,
     "metadata": {},
     "output_type": "execute_result"
    }
   ],
   "source": [
    "classes = model.predict(X_test.T, batch_size=500, verbose=1)\n",
    "classes.shape"
   ]
  },
  {
   "cell_type": "code",
   "execution_count": 28,
   "id": "ad474745",
   "metadata": {
    "ExecuteTime": {
     "end_time": "2021-08-15T19:55:40.193383Z",
     "start_time": "2021-08-15T19:55:39.575693Z"
    }
   },
   "outputs": [
    {
     "data": {
      "image/png": "[encoded data removed]",
      "text/plain": [
       "<Figure size 720x360 with 2 Axes>"
      ]
     },
     "metadata": {
      "needs_background": "light"
     },
     "output_type": "display_data"
    }
   ],
   "source": [
    "model.plot_cost_accuracy()"
   ]
  },
  {
   "cell_type": "code",
   "execution_count": null,
   "id": "c208209d",
   "metadata": {},
   "outputs": [],
   "source": []
  },
  {
   "cell_type": "code",
   "execution_count": 31,
   "id": "12820940",
   "metadata": {
    "ExecuteTime": {
     "end_time": "2021-08-15T19:56:24.024976Z",
     "start_time": "2021-08-15T19:56:23.913733Z"
    }
   },
   "outputs": [
    {
     "data": {
      "image/png": "[encoded data removed]",
      "text/plain": [
       "<Figure size 432x288 with 1 Axes>"
      ]
     },
     "metadata": {
      "needs_background": "light"
     },
     "output_type": "display_data"
    }
   ],
   "source": [
    "i = 1520\n",
    "test_image = X_test[i,:]\n",
    "test_image = np.array(test_image, dtype='float')\n",
    "pixels = test_image.reshape((28, 28))\n",
    "plt.imshow(pixels, cmap='gray')\n",
    "\n",
    "plt.imsave('test_' + str(i) +'.png', pixels, cmap='gray')\n",
    "plt.show()"
   ]
  },
  {
   "cell_type": "code",
   "execution_count": 32,
   "id": "95cf54c6",
   "metadata": {
    "ExecuteTime": {
     "end_time": "2021-08-15T19:56:25.120676Z",
     "start_time": "2021-08-15T19:56:24.948382Z"
    }
   },
   "outputs": [
    {
     "name": "stdout",
     "output_type": "stream",
     "text": [
      "Predicted label is: 7\n"
     ]
    },
    {
     "data": {
      "image/png": "[encoded data removed]",
      "text/plain": [
       "<Figure size 432x288 with 1 Axes>"
      ]
     },
     "metadata": {
      "needs_background": "light"
     },
     "output_type": "display_data"
    }
   ],
   "source": [
    "model.test_img('test_' + str(i) +'.png')"
   ]
  },
  {
   "cell_type": "code",
   "execution_count": null,
   "id": "70fc9b11",
   "metadata": {},
   "outputs": [],
   "source": []
  },
  {
   "cell_type": "code",
   "execution_count": null,
   "id": "15b40309",
   "metadata": {},
   "outputs": [],
   "source": []
  }
 ],
 "metadata": {
  "kernelspec": {
   "display_name": "Python 3 (ipykernel)",
   "language": "python",
   "name": "python3"
  },
  "language_info": {
   "codemirror_mode": {
    "name": "ipython",
    "version": 3
   },
   "file_extension": ".py",
   "mimetype": "text/x-python",
   "name": "python",
   "nbconvert_exporter": "python",
   "pygments_lexer": "ipython3",
   "version": "3.9.5"
  },
  "latex_envs": {
   "LaTeX_envs_menu_present": true,
   "autoclose": false,
   "autocomplete": true,
   "bibliofile": "biblio.bib",
   "cite_by": "apalike",
   "current_citInitial": 1,
   "eqLabelWithNumbers": true,
   "eqNumInitial": 1,
   "hotkeys": {
    "equation": "Ctrl-E",
    "itemize": "Ctrl-I"
   },
   "labels_anchors": false,
   "latex_user_defs": false,
   "report_style_numbering": false,
   "user_envs_cfg": false
  },
  "nbTranslate": {
   "displayLangs": [
    "*"
   ],
   "hotkey": "alt-t",
   "langInMainMenu": true,
   "sourceLang": "en",
   "targetLang": "fr",
   "useGoogleTranslate": true
  },
  "varInspector": {
   "cols": {
    "lenName": 16,
    "lenType": 16,
    "lenVar": 40
   },
   "kernels_config": {
    "python": {
     "delete_cmd_postfix": "",
     "delete_cmd_prefix": "del ",
     "library": "var_list.py",
     "varRefreshCmd": "print(var_dic_list())"
    },
    "r": {
     "delete_cmd_postfix": ") ",
     "delete_cmd_prefix": "rm(",
     "library": "var_list.r",
     "varRefreshCmd": "cat(var_dic_list()) "
    }
   },
   "types_to_exclude": [
    "module",
    "function",
    "builtin_function_or_method",
    "instance",
    "_Feature"
   ],
   "window_display": false
  },
  "widgets": {
   "application/vnd.jupyter.widget-state+json": {
    "state": {},
    "version_major": 2,
    "version_minor": 0
   }
  }
 },
 "nbformat": 4,
 "nbformat_minor": 5
}
